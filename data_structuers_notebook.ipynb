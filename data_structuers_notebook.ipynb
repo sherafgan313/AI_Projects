{
 "cells": [
  {
   "cell_type": "code",
   "execution_count": 1,
   "id": "1650b850",
   "metadata": {},
   "outputs": [
    {
     "name": "stdout",
     "output_type": "stream",
     "text": [
      "Raw Data: [{'id': 1, 'age': 25, 'salary': 50000, 'department': 'HR'}, {'id': 2, 'age': 30, 'salary': 60000, 'department': 'Engineering'}, {'id': 3, 'age': 28, 'salary': 55000, 'department': 'Engineering'}, {'id': 4, 'age': 35, 'salary': 70000, 'department': 'Finance'}, {'id': 5, 'age': 27, 'salary': 52000, 'department': 'HR'}]\n",
      "\n",
      "DataFrame:\n",
      "   id  age  salary   department\n",
      "0   1   25   50000           HR\n",
      "1   2   30   60000  Engineering\n",
      "2   3   28   55000  Engineering\n",
      "3   4   35   70000      Finance\n",
      "4   5   27   52000           HR\n"
     ]
    }
   ],
   "source": [
    "import numpy as np\n",
    "import pandas as pd\n",
    "\n",
    "# List of dictionaries for a small dataset\n",
    "data = [\n",
    "    {\"id\": 1, \"age\": 25, \"salary\": 50000, \"department\": \"HR\"},\n",
    "    {\"id\": 2, \"age\": 30, \"salary\": 60000, \"department\": \"Engineering\"},\n",
    "    {\"id\": 3, \"age\": 28, \"salary\": 55000, \"department\": \"Engineering\"},\n",
    "    {\"id\": 4, \"age\": 35, \"salary\": 70000, \"department\": \"Finance\"},\n",
    "    {\"id\": 5, \"age\": 27, \"salary\": 52000, \"department\": \"HR\"}\n",
    "]\n",
    "print(\"Raw Data:\", data)\n",
    "\n",
    "# Convert to Pandas DataFrame\n",
    "df = pd.DataFrame(data)\n",
    "print(\"\\nDataFrame:\")\n",
    "print(df)"
   ]
  },
  {
   "cell_type": "code",
   "execution_count": 2,
   "id": "a736971e",
   "metadata": {},
   "outputs": [
    {
     "name": "stdout",
     "output_type": "stream",
     "text": [
      "Unique Departments: {'Finance', 'HR', 'Engineering'}\n"
     ]
    }
   ],
   "source": [
    "departments = set(employee[\"department\"] for employee in data)\n",
    "print(\"Unique Departments:\", departments)"
   ]
  },
  {
   "cell_type": "code",
   "execution_count": 3,
   "id": "8a3ed7a0",
   "metadata": {},
   "outputs": [
    {
     "name": "stdout",
     "output_type": "stream",
     "text": [
      "\n",
      "Engineering Employees with 10% Raise: [{'id': 2, 'age': 30, 'salary': 66000.0, 'department': 'Engineering'}, {'id': 3, 'age': 28, 'salary': 60500.00000000001, 'department': 'Engineering'}]\n",
      "\n",
      "Updated DataFrame:\n",
      "   id  age   salary   department\n",
      "0   1   25  50000.0           HR\n",
      "1   2   30  66000.0  Engineering\n",
      "2   3   28  60500.0  Engineering\n",
      "3   4   35  70000.0      Finance\n",
      "4   5   27  52000.0           HR\n"
     ]
    }
   ],
   "source": [
    "# Use list comprehension to filter and transform data\n",
    "# Filter employees in Engineering and increase their salary by 10%\n",
    "engineering_employees = [emp for emp in data if emp[\"department\"] == \"Engineering\"]\n",
    "for emp in engineering_employees:\n",
    "    emp[\"salary\"] *= 1.10  # 10% raise\n",
    "print(\"\\nEngineering Employees with 10% Raise:\", engineering_employees)\n",
    "\n",
    "# Update DataFrame\n",
    "df_updated = pd.DataFrame(data)\n",
    "print(\"\\nUpdated DataFrame:\")\n",
    "print(df_updated)"
   ]
  },
  {
   "cell_type": "code",
   "execution_count": 4,
   "id": "2073b219",
   "metadata": {},
   "outputs": [
    {
     "name": "stdout",
     "output_type": "stream",
     "text": [
      "Original Ages: [25, 30, 28, 35, 27]\n",
      "Normalized Ages: [0.  0.5 0.3 1.  0.2]\n",
      "\n",
      "DataFrame with Normalized Age:\n",
      "   id  age   salary   department  normalized_age\n",
      "0   1   25  50000.0           HR             0.0\n",
      "1   2   30  66000.0  Engineering             0.5\n",
      "2   3   28  60500.0  Engineering             0.3\n",
      "3   4   35  70000.0      Finance             1.0\n",
      "4   5   27  52000.0           HR             0.2\n"
     ]
    }
   ],
   "source": [
    "# Normalize the 'age' column (scale to 0-1 range)\n",
    "ages = [emp[\"age\"] for emp in data]  # Extract ages using list comprehension\n",
    "ages_array = np.array(ages)  # Convert to NumPy array\n",
    "normalized_ages = (ages_array - ages_array.min()) / (ages_array.max() - ages_array.min())  # Min-Max normalization\n",
    "print(\"Original Ages:\", ages)\n",
    "print(\"Normalized Ages:\", normalized_ages)\n",
    "\n",
    "# Add normalized ages back to the DataFrame\n",
    "df_updated[\"normalized_age\"] = normalized_ages\n",
    "print(\"\\nDataFrame with Normalized Age:\")\n",
    "print(df_updated)"
   ]
  },
  {
   "cell_type": "code",
   "execution_count": 5,
   "id": "bc7dfa9e",
   "metadata": {},
   "outputs": [
    {
     "name": "stdout",
     "output_type": "stream",
     "text": [
      "Department Mapping: {'Finance': 0, 'HR': 1, 'Engineering': 2}\n",
      "\n",
      "DataFrame with Encoded Department:\n",
      "   id  age   salary   department  normalized_age  department_encoded\n",
      "0   1   25  50000.0           HR             0.0                   1\n",
      "1   2   30  66000.0  Engineering             0.5                   2\n",
      "2   3   28  60500.0  Engineering             0.3                   2\n",
      "3   4   35  70000.0      Finance             1.0                   0\n",
      "4   5   27  52000.0           HR             0.2                   1\n"
     ]
    }
   ],
   "source": [
    "# Encode the 'department' column (label encoding)\n",
    "# Create a dictionary to map departments to integers\n",
    "dept_mapping = {dept: idx for idx, dept in enumerate(departments)}\n",
    "print(\"Department Mapping:\", dept_mapping)\n",
    "\n",
    "# Add encoded department to the DataFrame\n",
    "df_updated[\"department_encoded\"] = df_updated[\"department\"].map(dept_mapping)\n",
    "print(\"\\nDataFrame with Encoded Department:\")\n",
    "print(df_updated)"
   ]
  },
  {
   "cell_type": "code",
   "execution_count": null,
   "id": "71531a7e",
   "metadata": {},
   "outputs": [],
   "source": []
  }
 ],
 "metadata": {
  "kernelspec": {
   "display_name": "Python 3",
   "language": "python",
   "name": "python3"
  },
  "language_info": {
   "codemirror_mode": {
    "name": "ipython",
    "version": 3
   },
   "file_extension": ".py",
   "mimetype": "text/x-python",
   "name": "python",
   "nbconvert_exporter": "python",
   "pygments_lexer": "ipython3",
   "version": "3.9.21"
  }
 },
 "nbformat": 4,
 "nbformat_minor": 5
}
