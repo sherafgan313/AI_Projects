{
 "cells": [
  {
   "cell_type": "code",
   "execution_count": 1,
   "id": "857b2233",
   "metadata": {},
   "outputs": [
    {
     "name": "stdout",
     "output_type": "stream",
     "text": [
      "Original DataFrame:\n",
      "   transaction_id product     category   price  quantity region   sale_date\n",
      "0               1   Phone  Electronics   500.0         2  North  2025-01-01\n",
      "1               2  Laptop  Electronics  1200.0         1  South  2025-01-02\n",
      "2               3   Shirt     Clothing    30.0         5  North  2025-01-03\n",
      "3               4   Phone  Electronics   500.0         3   West  2025-01-04\n",
      "4               5  Jacket     Clothing     NaN         2   East  2025-01-05\n",
      "5               6  Laptop  Electronics  1200.0         1  North  2025-01-06\n",
      "6               7   Shoes     Clothing    80.0         4  South  2025-01-07\n",
      "7               8   Phone  Electronics   500.0         1   West  2025-01-08\n",
      "8               9   Shirt     Clothing    30.0         6   East  2025-01-09\n",
      "9              10  Laptop  Electronics  1200.0         2  South  2025-01-10\n",
      "\n",
      "DataFrame Info:\n",
      "<class 'pandas.core.frame.DataFrame'>\n",
      "RangeIndex: 10 entries, 0 to 9\n",
      "Data columns (total 7 columns):\n",
      " #   Column          Non-Null Count  Dtype  \n",
      "---  ------          --------------  -----  \n",
      " 0   transaction_id  10 non-null     int64  \n",
      " 1   product         10 non-null     object \n",
      " 2   category        10 non-null     object \n",
      " 3   price           9 non-null      float64\n",
      " 4   quantity        10 non-null     int64  \n",
      " 5   region          10 non-null     object \n",
      " 6   sale_date       10 non-null     object \n",
      "dtypes: float64(1), int64(2), object(4)\n",
      "memory usage: 688.0+ bytes\n",
      "None\n"
     ]
    }
   ],
   "source": [
    "#Load and read data\n",
    "import numpy as np\n",
    "import pandas as pd\n",
    "import matplotlib.pyplot as plt\n",
    "\n",
    "df = pd.read_csv(\"sales_data.csv\")\n",
    "print(\"Original DataFrame:\")\n",
    "print(df)\n",
    "print(\"\\nDataFrame Info:\")\n",
    "print(df.info())"
   ]
  },
  {
   "cell_type": "code",
   "execution_count": 2,
   "id": "b1b64e5b",
   "metadata": {},
   "outputs": [
    {
     "name": "stdout",
     "output_type": "stream",
     "text": [
      "\n",
      "After Filling Missing Prices:\n",
      "   transaction_id product     category        price  quantity region  \\\n",
      "0               1   Phone  Electronics   500.000000         2  North   \n",
      "1               2  Laptop  Electronics  1200.000000         1  South   \n",
      "2               3   Shirt     Clothing    30.000000         5  North   \n",
      "3               4   Phone  Electronics   500.000000         3   West   \n",
      "4               5  Jacket     Clothing    46.666667         2   East   \n",
      "5               6  Laptop  Electronics  1200.000000         1  North   \n",
      "6               7   Shoes     Clothing    80.000000         4  South   \n",
      "7               8   Phone  Electronics   500.000000         1   West   \n",
      "8               9   Shirt     Clothing    30.000000         6   East   \n",
      "9              10  Laptop  Electronics  1200.000000         2  South   \n",
      "\n",
      "    sale_date  \n",
      "0  2025-01-01  \n",
      "1  2025-01-02  \n",
      "2  2025-01-03  \n",
      "3  2025-01-04  \n",
      "4  2025-01-05  \n",
      "5  2025-01-06  \n",
      "6  2025-01-07  \n",
      "7  2025-01-08  \n",
      "8  2025-01-09  \n",
      "9  2025-01-10  \n"
     ]
    }
   ],
   "source": [
    "# Fill missing 'price' values with the mean price for each category\n",
    "df[\"price\"] = df.groupby(\"category\")[\"price\"].transform(lambda x: x.fillna(x.mean()))\n",
    "print(\"\\nAfter Filling Missing Prices:\")\n",
    "print(df)"
   ]
  },
  {
   "cell_type": "code",
   "execution_count": 3,
   "id": "abdffcf2",
   "metadata": {},
   "outputs": [
    {
     "name": "stdout",
     "output_type": "stream",
     "text": [
      "\n",
      "After Adding Total Sales Column:\n",
      "   transaction_id product     category        price  quantity region  \\\n",
      "0               1   Phone  Electronics   500.000000         2  North   \n",
      "1               2  Laptop  Electronics  1200.000000         1  South   \n",
      "2               3   Shirt     Clothing    30.000000         5  North   \n",
      "3               4   Phone  Electronics   500.000000         3   West   \n",
      "4               5  Jacket     Clothing    46.666667         2   East   \n",
      "5               6  Laptop  Electronics  1200.000000         1  North   \n",
      "6               7   Shoes     Clothing    80.000000         4  South   \n",
      "7               8   Phone  Electronics   500.000000         1   West   \n",
      "8               9   Shirt     Clothing    30.000000         6   East   \n",
      "9              10  Laptop  Electronics  1200.000000         2  South   \n",
      "\n",
      "    sale_date  total_sales  \n",
      "0  2025-01-01  1000.000000  \n",
      "1  2025-01-02  1200.000000  \n",
      "2  2025-01-03   150.000000  \n",
      "3  2025-01-04  1500.000000  \n",
      "4  2025-01-05    93.333333  \n",
      "5  2025-01-06  1200.000000  \n",
      "6  2025-01-07   320.000000  \n",
      "7  2025-01-08   500.000000  \n",
      "8  2025-01-09   180.000000  \n",
      "9  2025-01-10  2400.000000  \n"
     ]
    }
   ],
   "source": [
    "# Add a new column for total sales (price * quantity)\n",
    "df[\"total_sales\"] = df[\"price\"] * df[\"quantity\"]\n",
    "print(\"\\nAfter Adding Total Sales Column:\")\n",
    "print(df)"
   ]
  },
  {
   "cell_type": "code",
   "execution_count": 4,
   "id": "2551a950",
   "metadata": {},
   "outputs": [
    {
     "name": "stdout",
     "output_type": "stream",
     "text": [
      "\n",
      "North Region Sales:\n",
      "   transaction_id product     category   price  quantity region   sale_date  \\\n",
      "0               1   Phone  Electronics   500.0         2  North  2025-01-01   \n",
      "2               3   Shirt     Clothing    30.0         5  North  2025-01-03   \n",
      "5               6  Laptop  Electronics  1200.0         1  North  2025-01-06   \n",
      "\n",
      "   total_sales  \n",
      "0       1000.0  \n",
      "2        150.0  \n",
      "5       1200.0  \n"
     ]
    }
   ],
   "source": [
    "#Filter data (e.g., sales in the North region)\n",
    "north_sales = df[df[\"region\"] == \"North\"]\n",
    "print(\"\\nNorth Region Sales:\")\n",
    "print(north_sales)"
   ]
  },
  {
   "cell_type": "code",
   "execution_count": 5,
   "id": "d972adcc",
   "metadata": {},
   "outputs": [
    {
     "name": "stdout",
     "output_type": "stream",
     "text": [
      "\n",
      "Category Summary:\n",
      "             total_sales              quantity\n",
      "                     sum         mean      sum\n",
      "category                                      \n",
      "Clothing      743.333333   185.833333       17\n",
      "Electronics  7800.000000  1300.000000       10\n"
     ]
    }
   ],
   "source": [
    "# Group by category and compute summary statistics\n",
    "category_summary = df.groupby(\"category\").agg({\n",
    "    \"total_sales\": [\"sum\", \"mean\"],\n",
    "    \"quantity\": \"sum\"\n",
    "})\n",
    "print(\"\\nCategory Summary:\")\n",
    "print(category_summary)"
   ]
  },
  {
   "cell_type": "code",
   "execution_count": 6,
   "id": "9e96b23b",
   "metadata": {},
   "outputs": [
    {
     "name": "stdout",
     "output_type": "stream",
     "text": [
      "\n",
      "After Normalizing Total Sales:\n",
      "   transaction_id product     category        price  quantity region  \\\n",
      "0               1   Phone  Electronics   500.000000         2  North   \n",
      "1               2  Laptop  Electronics  1200.000000         1  South   \n",
      "2               3   Shirt     Clothing    30.000000         5  North   \n",
      "3               4   Phone  Electronics   500.000000         3   West   \n",
      "4               5  Jacket     Clothing    46.666667         2   East   \n",
      "5               6  Laptop  Electronics  1200.000000         1  North   \n",
      "6               7   Shoes     Clothing    80.000000         4  South   \n",
      "7               8   Phone  Electronics   500.000000         1   West   \n",
      "8               9   Shirt     Clothing    30.000000         6   East   \n",
      "9              10  Laptop  Electronics  1200.000000         2  South   \n",
      "\n",
      "    sale_date  total_sales  normalized_sales  \n",
      "0  2025-01-01  1000.000000          0.393064  \n",
      "1  2025-01-02  1200.000000          0.479769  \n",
      "2  2025-01-03   150.000000          0.024566  \n",
      "3  2025-01-04  1500.000000          0.609827  \n",
      "4  2025-01-05    93.333333          0.000000  \n",
      "5  2025-01-06  1200.000000          0.479769  \n",
      "6  2025-01-07   320.000000          0.098266  \n",
      "7  2025-01-08   500.000000          0.176301  \n",
      "8  2025-01-09   180.000000          0.037572  \n",
      "9  2025-01-10  2400.000000          1.000000  \n"
     ]
    }
   ],
   "source": [
    "# normalize total_sales\n",
    "total_sales_array = np.array(df[\"total_sales\"])\n",
    "normalized_sales = (total_sales_array - total_sales_array.min()) / (total_sales_array.max() - total_sales_array.min())\n",
    "df[\"normalized_sales\"] = normalized_sales\n",
    "print(\"\\nAfter Normalizing Total Sales:\")\n",
    "print(df)"
   ]
  },
  {
   "cell_type": "code",
   "execution_count": 7,
   "id": "4935c59e",
   "metadata": {},
   "outputs": [
    {
     "data": {
      "image/png": "[encoded data removed]",
      "text/plain": [
       "<Figure size 800x500 with 1 Axes>"
      ]
     },
     "metadata": {},
     "output_type": "display_data"
    }
   ],
   "source": [
    "# Visualize total sales by region\n",
    "plt.figure(figsize=(8, 5))\n",
    "plt.bar(df[\"region\"], df[\"total_sales\"], color=\"green\")\n",
    "plt.xlabel(\"Region\")\n",
    "plt.ylabel(\"Total Sales\")\n",
    "plt.title(\"Total Sales by Region\")\n",
    "plt.show()"
   ]
  },
  {
   "cell_type": "code",
   "execution_count": 8,
   "id": "75afc070",
   "metadata": {},
   "outputs": [
    {
     "name": "stdout",
     "output_type": "stream",
     "text": [
      "Processed data saved to 'sales_data_processed.csv'\n"
     ]
    }
   ],
   "source": [
    "df.to_csv(\"sales_data_processed.csv\", index=False)\n",
    "print(\"Processed data saved to 'sales_data_processed.csv'\")"
   ]
  },
  {
   "cell_type": "code",
   "execution_count": null,
   "id": "32054617",
   "metadata": {},
   "outputs": [],
   "source": []
  }
 ],
 "metadata": {
  "kernelspec": {
   "display_name": "ai_env",
   "language": "python",
   "name": "python3"
  },
  "language_info": {
   "codemirror_mode": {
    "name": "ipython",
    "version": 3
   },
   "file_extension": ".py",
   "mimetype": "text/x-python",
   "name": "python",
   "nbconvert_exporter": "python",
   "pygments_lexer": "ipython3",
   "version": "3.9.21"
  }
 },
 "nbformat": 4,
 "nbformat_minor": 5
}
