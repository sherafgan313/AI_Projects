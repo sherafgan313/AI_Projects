{
 "cells": [
  {
   "cell_type": "code",
   "execution_count": 1,
   "id": "2527762e",
   "metadata": {},
   "outputs": [
    {
     "name": "stdout",
     "output_type": "stream",
     "text": [
      "Original DataFrame:\n",
      "   id  age  salary   department\n",
      "0   1   25   50000           HR\n",
      "1   2   30   60000  Engineering\n",
      "2   3   28   55000  Engineering\n",
      "3   2   30   60000  Engineering\n",
      "4   4   35   70000      Finance\n"
     ]
    }
   ],
   "source": [
    "# Import the preprocessing module and create a dataset\n",
    "import preprocessing\n",
    "import pandas as pd\n",
    "\n",
    "# Create a dataset with duplicates for testing\n",
    "data = [\n",
    "    {\"id\": 1, \"age\": 25, \"salary\": 50000, \"department\": \"HR\"},\n",
    "    {\"id\": 2, \"age\": 30, \"salary\": 60000, \"department\": \"Engineering\"},\n",
    "    {\"id\": 3, \"age\": 28, \"salary\": 55000, \"department\": \"Engineering\"},\n",
    "    {\"id\": 2, \"age\": 30, \"salary\": 60000, \"department\": \"Engineering\"},  # Duplicate\n",
    "    {\"id\": 4, \"age\": 35, \"salary\": 70000, \"department\": \"Finance\"}\n",
    "]\n",
    "df = pd.DataFrame(data)\n",
    "print(\"Original DataFrame:\")\n",
    "print(df)"
   ]
  },
  {
   "cell_type": "code",
   "execution_count": 2,
   "id": "945bec1b",
   "metadata": {},
   "outputs": [
    {
     "name": "stdout",
     "output_type": "stream",
     "text": [
      "\n",
      "DataFrame after Removing Duplicates:\n",
      "   id  age  salary   department\n",
      "0   1   25   50000           HR\n",
      "1   2   30   60000  Engineering\n",
      "2   3   28   55000  Engineering\n",
      "4   4   35   70000      Finance\n"
     ]
    }
   ],
   "source": [
    "df_cleaned = preprocessing.remove_duplicates(df, \"id\")\n",
    "print(\"\\nDataFrame after Removing Duplicates:\")\n",
    "print(df_cleaned)"
   ]
  },
  {
   "cell_type": "code",
   "execution_count": 3,
   "id": "3ab66cb2",
   "metadata": {},
   "outputs": [
    {
     "name": "stdout",
     "output_type": "stream",
     "text": [
      "\n",
      "DataFrame with Normalized Salary:\n",
      "   id  age  salary   department  salary_normalized\n",
      "0   1   25   50000           HR               0.00\n",
      "1   2   30   60000  Engineering               0.50\n",
      "2   3   28   55000  Engineering               0.25\n",
      "4   4   35   70000      Finance               1.00\n"
     ]
    },
    {
     "name": "stderr",
     "output_type": "stream",
     "text": [
      "d:\\JupyterNotebooks\\preprocessing.py:15: SettingWithCopyWarning: \n",
      "A value is trying to be set on a copy of a slice from a DataFrame.\n",
      "Try using .loc[row_indexer,col_indexer] = value instead\n",
      "\n",
      "See the caveats in the documentation: https://pandas.pydata.org/pandas-docs/stable/user_guide/indexing.html#returning-a-view-versus-a-copy\n",
      "  data[f\"{column_name}_normalized\"] = normalized\n"
     ]
    }
   ],
   "source": [
    "# Normalize the 'salary' column\n",
    "df_normalized = preprocessing.normalize_column(df_cleaned, \"salary\")\n",
    "print(\"\\nDataFrame with Normalized Salary:\")\n",
    "print(df_normalized)"
   ]
  },
  {
   "cell_type": "code",
   "execution_count": 4,
   "id": "a3d9d69f",
   "metadata": {},
   "outputs": [
    {
     "name": "stdout",
     "output_type": "stream",
     "text": [
      "\n",
      "Department Mapping: {'HR': 0, 'Engineering': 1, 'Finance': 2}\n",
      "\n",
      "DataFrame with Encoded Department:\n",
      "   id  age  salary   department  salary_normalized  department_encoded\n",
      "0   1   25   50000           HR               0.00                   0\n",
      "1   2   30   60000  Engineering               0.50                   1\n",
      "2   3   28   55000  Engineering               0.25                   1\n",
      "4   4   35   70000      Finance               1.00                   2\n"
     ]
    },
    {
     "name": "stderr",
     "output_type": "stream",
     "text": [
      "d:\\JupyterNotebooks\\preprocessing.py:30: SettingWithCopyWarning: \n",
      "A value is trying to be set on a copy of a slice from a DataFrame.\n",
      "Try using .loc[row_indexer,col_indexer] = value instead\n",
      "\n",
      "See the caveats in the documentation: https://pandas.pydata.org/pandas-docs/stable/user_guide/indexing.html#returning-a-view-versus-a-copy\n",
      "  data[f\"{column_name}_encoded\"] = data[column_name].map(mapping)\n"
     ]
    }
   ],
   "source": [
    "# Encode the 'department' column\n",
    "df_encoded, dept_mapping = preprocessing.encode_categorical(df_normalized, \"department\")\n",
    "print(\"\\nDepartment Mapping:\", dept_mapping)\n",
    "print(\"\\nDataFrame with Encoded Department:\")\n",
    "print(df_encoded)"
   ]
  },
  {
   "cell_type": "code",
   "execution_count": null,
   "id": "111df6b4",
   "metadata": {},
   "outputs": [],
   "source": []
  }
 ],
 "metadata": {
  "kernelspec": {
   "display_name": "Python 3",
   "language": "python",
   "name": "python3"
  },
  "language_info": {
   "codemirror_mode": {
    "name": "ipython",
    "version": 3
   },
   "file_extension": ".py",
   "mimetype": "text/x-python",
   "name": "python",
   "nbconvert_exporter": "python",
   "pygments_lexer": "ipython3",
   "version": "3.9.21"
  }
 },
 "nbformat": 4,
 "nbformat_minor": 5
}
